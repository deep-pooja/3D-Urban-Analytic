{
 "cells": [
  {
   "cell_type": "markdown",
   "id": "d9e514dc",
   "metadata": {},
   "source": [
    "Goal: Write a script to simulate buildings"
   ]
  },
  {
   "cell_type": "code",
   "execution_count": 1,
   "id": "eedb4928-a9c8-4ad6-96c0-31538c3c15f8",
   "metadata": {},
   "outputs": [
    {
     "name": "stdout",
     "output_type": "stream",
     "text": [
      "Requirement already satisfied: torch in /Users/deeppooja/opt/anaconda3/lib/python3.9/site-packages (2.0.1)\n",
      "Requirement already satisfied: filelock in /Users/deeppooja/opt/anaconda3/lib/python3.9/site-packages (from torch) (3.12.2)\n",
      "Requirement already satisfied: jinja2 in /Users/deeppooja/opt/anaconda3/lib/python3.9/site-packages (from torch) (2.11.3)\n",
      "Requirement already satisfied: networkx in /Users/deeppooja/opt/anaconda3/lib/python3.9/site-packages (from torch) (2.8.4)\n",
      "Requirement already satisfied: sympy in /Users/deeppooja/opt/anaconda3/lib/python3.9/site-packages (from torch) (1.10.1)\n",
      "Requirement already satisfied: typing-extensions in /Users/deeppooja/opt/anaconda3/lib/python3.9/site-packages (from torch) (4.3.0)\n",
      "Requirement already satisfied: MarkupSafe>=0.23 in /Users/deeppooja/opt/anaconda3/lib/python3.9/site-packages (from jinja2->torch) (2.0.1)\n",
      "Requirement already satisfied: mpmath>=0.19 in /Users/deeppooja/opt/anaconda3/lib/python3.9/site-packages (from sympy->torch) (1.2.1)\n",
      "Note: you may need to restart the kernel to use updated packages.\n"
     ]
    }
   ],
   "source": [
    "pip install torch"
   ]
  },
  {
   "cell_type": "markdown",
   "id": "f30f9425-114b-43a0-a5eb-1a43a8262cc9",
   "metadata": {},
   "source": []
  },
  {
   "cell_type": "code",
   "execution_count": 2,
   "id": "b4976a74",
   "metadata": {},
   "outputs": [],
   "source": [
    "#Install/Import Packages\n",
    "import shapely\n",
    "import geopandas\n",
    "import torch\n",
    "import torch_geometric\n",
    "import pandas as pd\n",
    "import numpy as np\n",
    "import matplotlib.pyplot as plt"
   ]
  },
  {
   "cell_type": "markdown",
   "id": "1e4034c5",
   "metadata": {},
   "source": [
    "I want to generate list of points that make-up the structure of cuboids/cubes and geometries in 3d\n",
    "1. Create 1d rings of the underlying 3d geometry [use shapely.linearings, takes input as list of points[list of x and y values] in order/direction]\n",
    "**NOTE** \n",
    "cannot take a point in three dimension (x,y,z) because of loss of direction/order\n",
    "2. create 2d polygon from rings   [use shapely.Polygon , takes input as list of linearrings]\n",
    "3. force 2d polygon to 3d         [use shapely.force_3d, takes input as geometries[polygons, linearrings]]"
   ]
  },
  {
   "cell_type": "code",
   "execution_count": 3,
   "id": "79c24677",
   "metadata": {},
   "outputs": [
    {
     "data": {
      "image/svg+xml": [
       "<svg xmlns=\"http://www.w3.org/2000/svg\" xmlns:xlink=\"http://www.w3.org/1999/xlink\" width=\"100.0\" height=\"100.0\" viewBox=\"-0.508 -0.508 11.015999999999998 11.015999999999998\" preserveAspectRatio=\"xMinYMin meet\"><g transform=\"matrix(1,0,0,-1,0,10.0)\"><path fill-rule=\"evenodd\" fill=\"#66cc99\" stroke=\"#555555\" stroke-width=\"0.22031999999999996\" opacity=\"0.6\" d=\"M 0.0,-0.1 L -0.009801714032956045,-0.09951847266721969 L -0.019509032201612868,-0.09807852804032303 L -0.02902846772544624,-0.09569403357322089 L -0.03826834323650904,-0.09238795325112865 L -0.04713967368259979,-0.0881921264348355 L -0.05555702330196022,-0.08314696123025453 L -0.0634393284163646,-0.07730104533627367 L -0.07071067811865477,-0.07071067811865475 L -0.07730104533627372,-0.06343932841636453 L -0.08314696123025456,-0.0555570233019602 L -0.08819212643483551,-0.04713967368259977 L -0.09238795325112868,-0.03826834323650897 L -0.0956940335732209,-0.02902846772544622 L -0.09807852804032305,-0.019509032201612837 L -0.09951847266721969,-0.00980171403295606 L -0.1,0.0 L -0.1,10.0 L -0.09951847266721969,10.009801714032957 L -0.09807852804032305,10.019509032201613 L -0.09569403357322089,10.029028467725446 L -0.09238795325112868,10.03826834323651 L -0.0881921264348355,10.047139673682599 L -0.08314696123025454,10.05555702330196 L -0.0773010453362737,10.063439328416365 L -0.07071067811865475,10.070710678118655 L -0.06343932841636453,10.077301045336274 L -0.0555570233019602,10.083146961230254 L -0.047139673682599775,10.088192126434835 L -0.038268343236508975,10.092387953251128 L -0.029028467725446223,10.09569403357322 L -0.01950903220161282,10.098078528040324 L -0.009801714032956066,10.099518472667219 L 0.0,10.1 L 10.0,10.1 L 10.009801714032957,10.099518472667219 L 10.019509032201613,10.098078528040324 L 10.029028467725446,10.09569403357322 L 10.03826834323651,10.092387953251128 L 10.047139673682599,10.088192126434835 L 10.05555702330196,10.083146961230254 L 10.063439328416365,10.077301045336274 L 10.070710678118655,10.070710678118655 L 10.077301045336274,10.063439328416365 L 10.083146961230254,10.05555702330196 L 10.088192126434835,10.047139673682599 L 10.092387953251128,10.03826834323651 L 10.09569403357322,10.029028467725446 L 10.098078528040324,10.019509032201613 L 10.099518472667219,10.009801714032957 L 10.1,10.0 L 10.1,0.0 L 10.099518472667219,-0.009801714032956061 L 10.098078528040324,-0.019509032201612826 L 10.09569403357322,-0.029028467725446233 L 10.092387953251128,-0.03826834323650898 L 10.088192126434835,-0.04713967368259977 L 10.083146961230254,-0.05555702330196022 L 10.077301045336274,-0.06343932841636456 L 10.070710678118655,-0.07071067811865475 L 10.063439328416365,-0.07730104533627369 L 10.05555702330196,-0.08314696123025452 L 10.047139673682599,-0.0881921264348355 L 10.03826834323651,-0.09238795325112868 L 10.029028467725446,-0.0956940335732209 L 10.019509032201613,-0.09807852804032305 L 10.009801714032957,-0.09951847266721969 L 10.0,-0.1 L 0.0,-0.1 z\" /></g></svg>"
      ],
      "text/plain": [
       "<POLYGON ((0 -0.1, -0.01 -0.1, -0.02 -0.098, -0.029 -0.096, -0.038 -0.092, -...>"
      ]
     },
     "execution_count": 3,
     "metadata": {},
     "output_type": "execute_result"
    }
   ],
   "source": [
    "temp = []\n",
    "#p = shapely.points([1.0,0.0])\n",
    "#print(list(p.coords))\n",
    "sqring = shapely.linearrings([[0, 0], [0, 10], [10, 10], [10,0],[0, 0]]) # a square ring 1d\n",
    "triaring = shapely.linearrings([[0, 0], [0, 10], [10, 1],[0, 0]])       # a triangular ring 1d\n",
    "sqpolygon = shapely.Polygon(sqring).buffer(0.1) # put the buffer distance small to preserve shape of the geometry, otherwise all geometries will get approximated to circular patch\n",
    "sqpolygon  # 2d\n",
    "#print(sqpolygon)"
   ]
  },
  {
   "cell_type": "code",
   "execution_count": 4,
   "id": "a2992afd",
   "metadata": {},
   "outputs": [
    {
     "name": "stdout",
     "output_type": "stream",
     "text": [
      "POLYGON ((0 -0.1, -0.009801714032956 -0.0995184726672197, -0.0195090322016129 -0.098078528040323, -0.0290284677254462 -0.0956940335732209, -0.038268343236509 -0.0923879532511286, -0.0471396736825998 -0.0881921264348355, -0.0555570233019602 -0.0831469612302545, -0.0634393284163646 -0.0773010453362737, -0.0707106781186548 -0.0707106781186548, -0.0773010453362737 -0.0634393284163645, -0.0831469612302546 -0.0555570233019602, -0.0881921264348355 -0.0471396736825998, -0.0923879532511287 -0.038268343236509, -0.0956940335732209 -0.0290284677254462, -0.098078528040323 -0.0195090322016128, -0.0995184726672197 -0.0098017140329561, -0.1 0, -0.1 10, -0.0995184726672197 10.009801714032957, -0.098078528040323 10.019509032201613, -0.0956940335732209 10.029028467725446, -0.0923879532511287 10.03826834323651, -0.0881921264348355 10.047139673682599, -0.0831469612302545 10.05555702330196, -0.0773010453362737 10.063439328416365, -0.0707106781186548 10.070710678118655, -0.0634393284163645 10.077301045336274, -0.0555570233019602 10.083146961230254, -0.0471396736825998 10.088192126434835, -0.038268343236509 10.092387953251128, -0.0290284677254462 10.09569403357322, -0.0195090322016128 10.098078528040324, -0.0098017140329561 10.099518472667219, 0 10.1, 10 10.1, 10.009801714032957 10.099518472667219, 10.019509032201613 10.098078528040324, 10.029028467725446 10.09569403357322, 10.03826834323651 10.092387953251128, 10.047139673682599 10.088192126434835, 10.05555702330196 10.083146961230254, 10.063439328416365 10.077301045336274, 10.070710678118655 10.070710678118655, 10.077301045336274 10.063439328416365, 10.083146961230254 10.05555702330196, 10.088192126434835 10.047139673682599, 10.092387953251128 10.03826834323651, 10.09569403357322 10.029028467725446, 10.098078528040324 10.019509032201613, 10.099518472667219 10.009801714032957, 10.1 10, 10.1 0, 10.099518472667219 -0.0098017140329561, 10.098078528040324 -0.0195090322016128, 10.09569403357322 -0.0290284677254462, 10.092387953251128 -0.038268343236509, 10.088192126434835 -0.0471396736825998, 10.083146961230254 -0.0555570233019602, 10.077301045336274 -0.0634393284163646, 10.070710678118655 -0.0707106781186548, 10.063439328416365 -0.0773010453362737, 10.05555702330196 -0.0831469612302545, 10.047139673682599 -0.0881921264348355, 10.03826834323651 -0.0923879532511287, 10.029028467725446 -0.0956940335732209, 10.019509032201613 -0.098078528040323, 10.009801714032957 -0.0995184726672197, 10 -0.1, 0 -0.1))\n"
     ]
    }
   ],
   "source": [
    "print(sqpolygon)"
   ]
  },
  {
   "cell_type": "code",
   "execution_count": 5,
   "id": "0f546f7f",
   "metadata": {},
   "outputs": [],
   "source": [
    "#with buffering point geometries gotten cylinders\n",
    "\n",
    "N = 100  # number of instances\n",
    "\n",
    "nx=ny=nz=121 # upper limit of interval value, doesn't has to be same\n",
    "\n",
    "x = np.random.randint(nx,size=100)   # generate 100 x coordinate of cylinder's footprint between[0,120]\n",
    "y = np.random.randint(ny,size=100)   # generate 100 y coordinate of cylinder's footprint between[0,120]\n",
    "z = np.random.randint(1,nz,size=100) # generate 100 z coordinate of cylinder's footprint between[1,120]\n",
    "\n",
    "area = {}         # to store patch's area\n",
    "patch2d = {}      # to store 2d patch\n",
    "cylinder3d = {}   # to store 3d cylinder\n",
    "volume = {}       # to store cylinder's volume\n",
    "\n",
    "for i in range(N):\n",
    "    \n",
    "    patch = shapely.Point(x[i],y[i]).buffer(0.1)\n",
    "    \n",
    "    patch2d[i] = patch\n",
    "    \n",
    "    area[i] = patch.area\n",
    "    \n",
    "    build_3d = shapely.force_3d(patch,z[i])\n",
    "    \n",
    "    cylinder3d[i] = build_3d\n",
    "    \n",
    "    volume[i] = patch.area*z[i]   "
   ]
  },
  {
   "cell_type": "code",
   "execution_count": 6,
   "id": "4ae62286",
   "metadata": {},
   "outputs": [],
   "source": [
    "# with buffering SquareRing geometries is equivalent to squarepatch, after force3d, results in cuboids \n",
    "\n",
    "N = 100        # Number of instances\n",
    "#choose a interval from which x and y coordinates of points are randomly drawn, doesn't has to be same interval[0,120]\n",
    "nx1 = 121\n",
    "nx2 = 121\n",
    "ny1 = 121\n",
    "ny2 = 121\n",
    "nz = 121\n",
    "buffer_dist = 0.1  # buffer distance to the polygon\n",
    "\n",
    "x1 = np.random.randint(nx1,size=N) # generate 100 x1 coordinates randomly from discrete uniform distribution\n",
    "\n",
    "y1 = np.random.randint(ny1,size=N) # generate 100 y1 coordinates randomly from discrete uniform distribution\n",
    "\n",
    "x2 = np.random.randint(nx2,size=N) # generate 100 x2 coordinates randomly from discrete uniform distribution\n",
    "\n",
    "y2 = np.random.randint(ny2,size=N) # generate 100 y2 coordinates randomly from discrete uniform distribution\n",
    "\n",
    "z = np.random.randint(1,nz,size=N) # generate 100 z coordinates randomly from discrete uniform distribution\n",
    "\n",
    "square_boundaries1d = {}  # dict to store a square ring\n",
    "\n",
    "area_quadrilateral = {}   # dict to store the area of a square polygon: quadrilateral\n",
    "\n",
    "quadrilateral2d = {}      # dict to store a quadrilateral\n",
    "\n",
    "cuboid3d = {}             # dict to store a cuboid\n",
    "\n",
    "volume_cuboid = {}        # dict to store the volume of a cuboid\n",
    "\n",
    "size_label = {}                # temporary list to store square points\n",
    "\n",
    "for i in range(N):\n",
    "    \n",
    "    #if not coord:\n",
    "    #    continue \n",
    "    #else:\n",
    "    #    print(\"coord is NOT empty \\n\",len(coord))\n",
    "    #    break\n",
    "    \n",
    "    # put the points in order, either clockwise or anti-clockwise\n",
    "    \n",
    "    square_ring = shapely.linearrings([[x1[i],y1[i]],[x2[i],y1[i]],[x2[i],y2[i]],[x1[i],y2[i]],[x1[i],y1[i]]])\n",
    "    \n",
    "    #coord.append(list(p1.coords))\n",
    "    \n",
    "    #p2 = shapely.Point()\n",
    "    \n",
    "    #coord.append(list(p2.coords))\n",
    "    \n",
    "    #p3 = shapely.Point()\n",
    "    \n",
    "    #coord.append(list(p3.coords))\n",
    "    \n",
    "    #p4 = shapely.Point()\n",
    "    \n",
    "    #coord.append(list(p4.coords))\n",
    "    \n",
    "    #square_ring = shapely.linearrings(coord) # create squarering geometry\n",
    "    \n",
    "    square_boundaries1d[i] = square_ring\n",
    "    \n",
    "    if square_ring.is_closed:\n",
    "        \n",
    "        quadrilateral = shapely.Polygon(square_ring).buffer(buffer_dist)\n",
    "        \n",
    "        quadrilateral2d[i] = quadrilateral\n",
    "        \n",
    "        area_quadrilateral[i] = quadrilateral.area\n",
    "        \n",
    "        force_cuboid = shapely.force_3d(quadrilateral,z[i])\n",
    "        \n",
    "        cuboid3d[i] = force_cuboid\n",
    "        \n",
    "        volume_cuboid[i] = quadrilateral.area*z[i]\n",
    "        \n",
    "        if z[i]<25:\n",
    "            size_label[i] = 'Small'\n",
    "        elif 25<=z[i]<=100:\n",
    "            size_label[i] = 'Medium'\n",
    "        elif z[i]>100:\n",
    "            size_label[i] = 'Large'"
   ]
  },
  {
   "cell_type": "code",
   "execution_count": 7,
   "id": "25620335",
   "metadata": {},
   "outputs": [],
   "source": [
    "\n"
   ]
  },
  {
   "cell_type": "code",
   "execution_count": null,
   "id": "4d04128b",
   "metadata": {},
   "outputs": [],
   "source": []
  },
  {
   "cell_type": "code",
   "execution_count": null,
   "id": "8ae1dbc4-62f1-4253-85d5-e862944bc487",
   "metadata": {},
   "outputs": [],
   "source": []
  },
  {
   "cell_type": "code",
   "execution_count": null,
   "id": "ab1cbef5-b8b4-4336-8f90-d2ce3813da72",
   "metadata": {},
   "outputs": [],
   "source": []
  },
  {
   "cell_type": "code",
   "execution_count": null,
   "id": "56b6f8a4-0378-4272-99d6-30e7858d11fe",
   "metadata": {},
   "outputs": [],
   "source": []
  }
 ],
 "metadata": {
  "kernelspec": {
   "display_name": "Python 3 (ipykernel)",
   "language": "python",
   "name": "python3"
  },
  "language_info": {
   "codemirror_mode": {
    "name": "ipython",
    "version": 3
   },
   "file_extension": ".py",
   "mimetype": "text/x-python",
   "name": "python",
   "nbconvert_exporter": "python",
   "pygments_lexer": "ipython3",
   "version": "3.9.13"
  }
 },
 "nbformat": 4,
 "nbformat_minor": 5
}
